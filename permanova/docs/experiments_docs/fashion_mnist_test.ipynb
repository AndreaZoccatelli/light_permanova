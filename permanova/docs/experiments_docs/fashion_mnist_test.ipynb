{
  "cells": [
    {
      "cell_type": "markdown",
      "metadata": {
        "colab_type": "text",
        "id": "view-in-github"
      },
      "source": [
        "<a href=\"https://colab.research.google.com/github/AndreaZoccatelli/light_permanova/blob/main/fashion_mnist_test.ipynb\" target=\"_parent\"><img src=\"https://colab.research.google.com/assets/colab-badge.svg\" alt=\"Open In Colab\"/></a>"
      ]
    },
    {
      "cell_type": "markdown",
      "metadata": {
        "id": "JhpDnUQKoa7F"
      },
      "source": [
        "# PERMANOVA test on images"
      ]
    },
    {
      "cell_type": "markdown",
      "metadata": {
        "id": "lC8JdT9OEvUK"
      },
      "source": [
        "**Dataset**: [Fashion MNIST dataset](https://github.com/zalandoresearch/fashion-mnist)\n",
        "\n",
        "**Model**: [ResNet18](https://arxiv.org/abs/1512.03385)\n",
        "\n",
        "**Runtime**: T4\n",
        "\n",
        "**Steps**:\n",
        "1. Model is trained on the dataset deprived by the t-shirt class.\n",
        "2. The distribution of the image embeddings of train and test set are compared with the ones of the t-shirt test set.\n",
        "3. Train set is modified with an adversarial attack.\n",
        "4. The embeddings distribution of the modified training test are compared with the original ones.\n"
      ]
    },
    {
      "cell_type": "markdown",
      "metadata": {
        "id": "ad4WPNdowAEC"
      },
      "source": [
        "![Fashion-MNIST-dataset-Activeloop-Platform-visualization-image.webp](data:image/webp;base64,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)"
      ]
    },
    {
      "cell_type": "markdown",
      "metadata": {
        "id": "jHyONX1nuYtx"
      },
      "source": [
        "## Setup"
      ]
    },
    {
      "cell_type": "code",
      "execution_count": 1,
      "metadata": {
        "colab": {
          "base_uri": "https://localhost:8080/"
        },
        "id": "AkfRXpmVBxVt",
        "outputId": "1f1f5015-f4f5-439d-ef1a-3fbb675be300"
      },
      "outputs": [
        {
          "name": "stdout",
          "output_type": "stream",
          "text": [
            "Cloning into 'light_permanova'...\n",
            "remote: Enumerating objects: 12, done.\u001b[K\n",
            "remote: Counting objects: 100% (12/12), done.\u001b[K\n",
            "remote: Compressing objects: 100% (11/11), done.\u001b[K\n",
            "remote: Total 12 (delta 2), reused 0 (delta 0), pack-reused 0 (from 0)\u001b[K\n",
            "Receiving objects: 100% (12/12), 259.92 KiB | 12.38 MiB/s, done.\n",
            "Resolving deltas: 100% (2/2), done.\n",
            "Collecting adversarial-robustness-toolbox\n",
            "  Downloading adversarial_robustness_toolbox-1.18.1-py3-none-any.whl.metadata (11 kB)\n",
            "Requirement already satisfied: numpy>=1.18.0 in /usr/local/lib/python3.10/dist-packages (from adversarial-robustness-toolbox) (1.26.4)\n",
            "Requirement already satisfied: scipy>=1.4.1 in /usr/local/lib/python3.10/dist-packages (from adversarial-robustness-toolbox) (1.13.1)\n",
            "Requirement already satisfied: scikit-learn>=0.22.2 in /usr/local/lib/python3.10/dist-packages (from adversarial-robustness-toolbox) (1.3.2)\n",
            "Requirement already satisfied: six in /usr/local/lib/python3.10/dist-packages (from adversarial-robustness-toolbox) (1.16.0)\n",
            "Requirement already satisfied: setuptools in /usr/local/lib/python3.10/dist-packages (from adversarial-robustness-toolbox) (71.0.4)\n",
            "Requirement already satisfied: tqdm in /usr/local/lib/python3.10/dist-packages (from adversarial-robustness-toolbox) (4.66.5)\n",
            "Requirement already satisfied: joblib>=1.1.1 in /usr/local/lib/python3.10/dist-packages (from scikit-learn>=0.22.2->adversarial-robustness-toolbox) (1.4.2)\n",
            "Requirement already satisfied: threadpoolctl>=2.0.0 in /usr/local/lib/python3.10/dist-packages (from scikit-learn>=0.22.2->adversarial-robustness-toolbox) (3.5.0)\n",
            "Downloading adversarial_robustness_toolbox-1.18.1-py3-none-any.whl (1.7 MB)\n",
            "\u001b[2K   \u001b[90m━━━━━━━━━━━━━━━━━━━━━━━━━━━━━━━━━━━━━━━━\u001b[0m \u001b[32m1.7/1.7 MB\u001b[0m \u001b[31m28.7 MB/s\u001b[0m eta \u001b[36m0:00:00\u001b[0m\n",
            "\u001b[?25hInstalling collected packages: adversarial-robustness-toolbox\n",
            "Successfully installed adversarial-robustness-toolbox-1.18.1\n"
          ]
        }
      ],
      "source": [
        "!git clone https://github.com/AndreaZoccatelli/light_permanova\n",
        "!pip install adversarial-robustness-toolbox"
      ]
    },
    {
      "cell_type": "code",
      "execution_count": 2,
      "metadata": {
        "id": "Pow4gef4CxkD"
      },
      "outputs": [],
      "source": [
        "import sys\n",
        "\n",
        "\n",
        "\n",
        "sys.path.append(\"/content/light_permanova/permanova/permanova_torch\")\n",
        "\n",
        "\n",
        "from lightpermanova import LightPermAnova, PermAnovaSampler"
      ]
    },
    {
      "cell_type": "code",
      "execution_count": 3,
      "metadata": {
        "execution": {
          "iopub.execute_input": "2024-08-05T23:15:54.640698Z",
          "iopub.status.busy": "2024-08-05T23:15:54.639813Z",
          "iopub.status.idle": "2024-08-05T23:15:55.763415Z",
          "shell.execute_reply": "2024-08-05T23:15:55.762481Z",
          "shell.execute_reply.started": "2024-08-05T23:15:54.640663Z"
        },
        "id": "WchQOWM8Q2lG",
        "trusted": true
      },
      "outputs": [],
      "source": [
        "import torch\n",
        "from torch import nn\n",
        "from torch.utils.data import Dataset\n",
        "from torchvision import datasets\n",
        "from torchvision.models import resnet18\n",
        "from torchvision.transforms import ToTensor\n",
        "import torch.utils.data as data\n",
        "import matplotlib.pyplot as plt\n",
        "from sklearn.metrics import accuracy_score\n",
        "from sklearn.decomposition import PCA\n",
        "from art.estimators.classification import PyTorchClassifier\n",
        "from art.attacks.evasion import FastGradientMethod\n",
        "from tqdm import tqdm\n",
        "import time\n",
        "import numpy as np"
      ]
    },
    {
      "cell_type": "code",
      "execution_count": 4,
      "metadata": {
        "execution": {
          "iopub.execute_input": "2024-08-05T23:15:59.16247Z",
          "iopub.status.busy": "2024-08-05T23:15:59.162107Z",
          "iopub.status.idle": "2024-08-05T23:15:59.168726Z",
          "shell.execute_reply": "2024-08-05T23:15:59.167644Z",
          "shell.execute_reply.started": "2024-08-05T23:15:59.162443Z"
        },
        "id": "ppJcB5PO6R6K",
        "trusted": true
      },
      "outputs": [],
      "source": [
        "class ResNetFashionMnist(nn.Module):\n",
        "    def __init__(self, *args, **kwargs) -> None:\n",
        "        super().__init__(*args, **kwargs)\n",
        "        self.model = resnet18(num_classes=9)\n",
        "        self.model.conv1 = nn.Conv2d(\n",
        "            1, 64, kernel_size=(7, 7), stride=(2, 2), padding=(3, 3), bias=False\n",
        "        )\n",
        "\n",
        "    def forward(self, x):\n",
        "        return self.model(x)"
      ]
    },
    {
      "cell_type": "code",
      "execution_count": 5,
      "metadata": {
        "execution": {
          "iopub.execute_input": "2024-08-05T23:31:38.00869Z",
          "iopub.status.busy": "2024-08-05T23:31:38.007864Z",
          "iopub.status.idle": "2024-08-05T23:31:38.014045Z",
          "shell.execute_reply": "2024-08-05T23:31:38.013103Z",
          "shell.execute_reply.started": "2024-08-05T23:31:38.008655Z"
        },
        "id": "jOzAhzD96UpY",
        "trusted": true
      },
      "outputs": [],
      "source": [
        "def predict(dataset, model, device):\n",
        "    test_loader = data.DataLoader(dataset, batch_size=len(dataset), shuffle=False)\n",
        "    test_images, _ = next(iter(test_loader))\n",
        "\n",
        "    test_images = test_images.to(device)\n",
        "\n",
        "    with torch.no_grad():\n",
        "        predictions = model(test_images)\n",
        "\n",
        "    return predictions"
      ]
    },
    {
      "cell_type": "markdown",
      "metadata": {
        "id": "i6ast0q76hOn"
      },
      "source": [
        "## Dataset"
      ]
    },
    {
      "cell_type": "code",
      "execution_count": null,
      "metadata": {
        "colab": {
          "base_uri": "https://localhost:8080/"
        },
        "execution": {
          "iopub.execute_input": "2024-08-05T23:16:19.053519Z",
          "iopub.status.busy": "2024-08-05T23:16:19.052726Z",
          "iopub.status.idle": "2024-08-05T23:16:19.147525Z",
          "shell.execute_reply": "2024-08-05T23:16:19.146751Z",
          "shell.execute_reply.started": "2024-08-05T23:16:19.053482Z"
        },
        "id": "2dGfxF_u6jaA",
        "outputId": "e2effc59-2cee-4916-b5c9-869521735b2f",
        "trusted": true
      },
      "outputs": [
        {
          "name": "stdout",
          "output_type": "stream",
          "text": [
            "Downloading http://fashion-mnist.s3-website.eu-central-1.amazonaws.com/train-images-idx3-ubyte.gz\n",
            "Downloading http://fashion-mnist.s3-website.eu-central-1.amazonaws.com/train-images-idx3-ubyte.gz to data/FashionMNIST/raw/train-images-idx3-ubyte.gz\n"
          ]
        },
        {
          "name": "stderr",
          "output_type": "stream",
          "text": [
            "100%|██████████| 26421880/26421880 [00:13<00:00, 2012924.93it/s]\n"
          ]
        },
        {
          "name": "stdout",
          "output_type": "stream",
          "text": [
            "Extracting data/FashionMNIST/raw/train-images-idx3-ubyte.gz to data/FashionMNIST/raw\n",
            "\n",
            "Downloading http://fashion-mnist.s3-website.eu-central-1.amazonaws.com/train-labels-idx1-ubyte.gz\n",
            "Downloading http://fashion-mnist.s3-website.eu-central-1.amazonaws.com/train-labels-idx1-ubyte.gz to data/FashionMNIST/raw/train-labels-idx1-ubyte.gz\n"
          ]
        },
        {
          "name": "stderr",
          "output_type": "stream",
          "text": [
            "100%|██████████| 29515/29515 [00:00<00:00, 169858.23it/s]\n"
          ]
        },
        {
          "name": "stdout",
          "output_type": "stream",
          "text": [
            "Extracting data/FashionMNIST/raw/train-labels-idx1-ubyte.gz to data/FashionMNIST/raw\n",
            "\n",
            "Downloading http://fashion-mnist.s3-website.eu-central-1.amazonaws.com/t10k-images-idx3-ubyte.gz\n"
          ]
        }
      ],
      "source": [
        "device = torch.device(\"cuda\" if torch.cuda.is_available() else \"cpu\")\n",
        "\n",
        "training_data = datasets.FashionMNIST(\n",
        "    root=\"data\", train=True, download=True, transform=ToTensor()\n",
        ")\n",
        "test_data = datasets.FashionMNIST(\n",
        "    root=\"data\", train=False, download=True, transform=ToTensor()\n",
        ")\n",
        "\n",
        "test_data_tshirt = datasets.FashionMNIST(\n",
        "    root=\"data\", train=False, download=True, transform=ToTensor()\n",
        ")"
      ]
    },
    {
      "cell_type": "code",
      "execution_count": null,
      "metadata": {
        "execution": {
          "iopub.execute_input": "2024-08-05T23:16:19.502032Z",
          "iopub.status.busy": "2024-08-05T23:16:19.501201Z",
          "iopub.status.idle": "2024-08-05T23:16:19.615534Z",
          "shell.execute_reply": "2024-08-05T23:16:19.614694Z",
          "shell.execute_reply.started": "2024-08-05T23:16:19.501999Z"
        },
        "id": "wyFfTZyM6mS5",
        "trusted": true
      },
      "outputs": [],
      "source": [
        "no_tshirt_train = torch.where(training_data.targets != 0)\n",
        "tshirt_train = torch.where(training_data.targets == 0)\n",
        "\n",
        "training_data.targets = training_data.targets[no_tshirt_train[0]]\n",
        "training_data.data = training_data.data[no_tshirt_train[0], :]\n",
        "\n",
        "no_tshirt_test = torch.where(test_data.targets != 0)\n",
        "tshirt_test = torch.where(test_data.targets == 0)\n",
        "\n",
        "test_data.targets = test_data.targets[no_tshirt_test[0]]\n",
        "test_data.data = test_data.data[no_tshirt_test[0], :]\n",
        "\n",
        "training_data.targets -= 1\n",
        "test_data.targets -= 1"
      ]
    },
    {
      "cell_type": "code",
      "execution_count": null,
      "metadata": {
        "execution": {
          "iopub.execute_input": "2024-08-05T23:16:20.173399Z",
          "iopub.status.busy": "2024-08-05T23:16:20.17299Z",
          "iopub.status.idle": "2024-08-05T23:16:20.180144Z",
          "shell.execute_reply": "2024-08-05T23:16:20.179369Z",
          "shell.execute_reply.started": "2024-08-05T23:16:20.173368Z"
        },
        "id": "NEDmCxwL8DKx",
        "trusted": true
      },
      "outputs": [],
      "source": [
        "test_data_tshirt.targets = test_data_tshirt.targets[tshirt_test[0]]\n",
        "test_data_tshirt.data = test_data_tshirt.data[tshirt_test[0], :]"
      ]
    },
    {
      "cell_type": "markdown",
      "metadata": {
        "id": "uTlKLk0N6Xep"
      },
      "source": [
        "## Model Training + Save"
      ]
    },
    {
      "cell_type": "code",
      "execution_count": null,
      "metadata": {
        "execution": {
          "iopub.execute_input": "2024-08-05T23:16:28.515188Z",
          "iopub.status.busy": "2024-08-05T23:16:28.514851Z",
          "iopub.status.idle": "2024-08-05T23:16:28.891015Z",
          "shell.execute_reply": "2024-08-05T23:16:28.890264Z",
          "shell.execute_reply.started": "2024-08-05T23:16:28.515163Z"
        },
        "id": "vLKOUtdk4GSi",
        "trusted": true
      },
      "outputs": [],
      "source": [
        "model = ResNetFashionMnist().to(device)\n",
        "optimizer = torch.optim.Adam(model.parameters())\n",
        "loss_fn = nn.CrossEntropyLoss()"
      ]
    },
    {
      "cell_type": "code",
      "execution_count": null,
      "metadata": {
        "colab": {
          "base_uri": "https://localhost:8080/"
        },
        "execution": {
          "iopub.execute_input": "2024-08-05T23:16:29.374492Z",
          "iopub.status.busy": "2024-08-05T23:16:29.374109Z",
          "iopub.status.idle": "2024-08-05T23:17:08.45819Z",
          "shell.execute_reply": "2024-08-05T23:17:08.457113Z",
          "shell.execute_reply.started": "2024-08-05T23:16:29.374461Z"
        },
        "id": "votkLJsRQ_Yi",
        "outputId": "29b08e18-f0e3-4107-d9e9-8532c9006567",
        "trusted": true
      },
      "outputs": [],
      "source": [
        "n_epochs = 30\n",
        "loader = data.DataLoader(training_data, shuffle=True, batch_size=128)\n",
        "\n",
        "# Training loop\n",
        "model.train()\n",
        "for epoch in tqdm(range(n_epochs)):\n",
        "    model.train()\n",
        "    loss = 0\n",
        "    for X_batch, y_batch in loader:\n",
        "        X_batch, y_batch = X_batch.to(device), y_batch.to(device)\n",
        "        y_pred = model(X_batch)\n",
        "        loss = loss_fn(y_pred, y_batch)\n",
        "        optimizer.zero_grad()\n",
        "        loss.backward()\n",
        "        optimizer.step()\n",
        "\n",
        "    print(f\"Epoch [{epoch+1}/{n_epochs}], Loss: {loss}\")"
      ]
    },
    {
      "cell_type": "code",
      "execution_count": null,
      "metadata": {
        "id": "l_2e2nMwLrCF"
      },
      "outputs": [],
      "source": [
        "torch.save(model.state_dict(), \"/content/model_state.pth\")"
      ]
    },
    {
      "cell_type": "markdown",
      "metadata": {
        "id": "1l44aIco_QhX"
      },
      "source": [
        "## Load Trained Model"
      ]
    },
    {
      "cell_type": "code",
      "execution_count": 38,
      "metadata": {
        "colab": {
          "base_uri": "https://localhost:8080/"
        },
        "execution": {
          "iopub.execute_input": "2024-08-05T23:17:16.544721Z",
          "iopub.status.busy": "2024-08-05T23:17:16.544381Z",
          "iopub.status.idle": "2024-08-05T23:17:17.385944Z",
          "shell.execute_reply": "2024-08-05T23:17:17.384989Z",
          "shell.execute_reply.started": "2024-08-05T23:17:16.544695Z"
        },
        "id": "I8SL3vRiSnHO",
        "outputId": "06c0eb1e-2ebf-4e9f-ed3a-7f6d078af147",
        "trusted": true
      },
      "outputs": [
        {
          "data": {
            "text/plain": [
              "<All keys matched successfully>"
            ]
          },
          "execution_count": 38,
          "metadata": {},
          "output_type": "execute_result"
        }
      ],
      "source": [
        "# Convert test data to TensorDataset\n",
        "model = ResNetFashionMnist().to(device)\n",
        "model.load_state_dict(torch.load(\"/content/model_state.pth\", map_location=device))"
      ]
    },
    {
      "cell_type": "code",
      "execution_count": 40,
      "metadata": {
        "colab": {
          "base_uri": "https://localhost:8080/"
        },
        "execution": {
          "iopub.execute_input": "2024-08-05T23:17:19.55204Z",
          "iopub.status.busy": "2024-08-05T23:17:19.551452Z",
          "iopub.status.idle": "2024-08-05T23:17:21.069276Z",
          "shell.execute_reply": "2024-08-05T23:17:21.068361Z",
          "shell.execute_reply.started": "2024-08-05T23:17:19.552007Z"
        },
        "id": "yxljER6N-Rhh",
        "outputId": "a9600ad2-fcbb-425c-9fd2-d521e0ab642a",
        "trusted": true
      },
      "outputs": [
        {
          "name": "stdout",
          "output_type": "stream",
          "text": [
            "Accuracy Score: 0.93133\n"
          ]
        }
      ],
      "source": [
        "predicted_classes = predict(test_data, model, device)\n",
        "_, predicted_classes = torch.max(predicted_classes, 1)\n",
        "acc = (\n",
        "    torch.sum(predicted_classes.to(\"cpu\") == test_data.targets)\n",
        "    / test_data.targets.shape[0]\n",
        ")\n",
        "print(f\"Accuracy Score: {round(acc.item(),5)}\")"
      ]
    },
    {
      "cell_type": "code",
      "execution_count": 72,
      "metadata": {
        "execution": {
          "iopub.execute_input": "2024-08-05T23:32:55.649518Z",
          "iopub.status.busy": "2024-08-05T23:32:55.648639Z",
          "iopub.status.idle": "2024-08-05T23:32:55.685537Z",
          "shell.execute_reply": "2024-08-05T23:32:55.684788Z",
          "shell.execute_reply.started": "2024-08-05T23:32:55.649482Z"
        },
        "id": "Y2CR8awA_PHt",
        "trusted": true
      },
      "outputs": [],
      "source": [
        "# Remove the output layer to obtain the embeddings\n",
        "embedder = torch.nn.Sequential(*(list(model.model.children())[:-1]))\n",
        "embedder = embedder.to(device)"
      ]
    },
    {
      "cell_type": "code",
      "execution_count": 18,
      "metadata": {
        "execution": {
          "iopub.execute_input": "2024-08-05T23:32:57.643021Z",
          "iopub.status.busy": "2024-08-05T23:32:57.642664Z",
          "iopub.status.idle": "2024-08-05T23:33:06.880763Z",
          "shell.execute_reply": "2024-08-05T23:33:06.87975Z",
          "shell.execute_reply.started": "2024-08-05T23:32:57.642989Z"
        },
        "id": "uXdqbYgj56Z-",
        "trusted": true
      },
      "outputs": [],
      "source": [
        "# Embeddings of training dataset\n",
        "train_emb = predict(training_data, embedder, device=device)\n",
        "train_emb = train_emb.view(train_emb.shape[0], -1)\n",
        "\n",
        "# Embeddings of test dataset\n",
        "test_emb = predict(test_data, embedder, device=device)\n",
        "test_emb = test_emb.view(test_emb.shape[0], -1)\n",
        "\n",
        "# Embeddings of t-shirts test dataset\n",
        "tshirt_emb = predict(test_data_tshirt, embedder, device=device)\n",
        "tshirt_emb = tshirt_emb.view(tshirt_emb.shape[0], -1)"
      ]
    },
    {
      "cell_type": "markdown",
      "metadata": {
        "id": "MsZUOa7KGmP4"
      },
      "source": [
        "## Comparison with PERMANOVA"
      ]
    },
    {
      "cell_type": "markdown",
      "metadata": {
        "id": "j8X3s3xsSwoE"
      },
      "source": [
        "Comparison between train set and test set embeddings: the null hypothesis (samples are equal) is not rejected."
      ]
    },
    {
      "cell_type": "code",
      "execution_count": 19,
      "metadata": {
        "colab": {
          "base_uri": "https://localhost:8080/"
        },
        "id": "OJXOMOaPgwe4",
        "outputId": "a222a910-d3bb-4b64-949c-67de29b1da0f"
      },
      "outputs": [
        {
          "name": "stderr",
          "output_type": "stream",
          "text": [
            "100%|██████████| 100/100 [02:19<00:00,  1.39s/it]\n"
          ]
        }
      ],
      "source": [
        "# To speed up the comparison train_emb is sub-sampled\n",
        "sampler = PermAnovaSampler(train_emb)\n",
        "train_emb_sampled = sampler.get_representative_sample(tot_permutations=100)"
      ]
    },
    {
      "cell_type": "code",
      "execution_count": 25,
      "metadata": {
        "colab": {
          "base_uri": "https://localhost:8080/"
        },
        "id": "rWpDp1sjiYpe",
        "outputId": "800cfc7a-e3a4-4b38-c2a1-a6c5f18fccd8"
      },
      "outputs": [
        {
          "name": "stderr",
          "output_type": "stream",
          "text": [
            "100%|██████████| 1000/1000 [05:58<00:00,  2.79it/s]\n"
          ]
        },
        {
          "name": "stdout",
          "output_type": "stream",
          "text": [
            "p-value: 0.97702\n"
          ]
        }
      ],
      "source": [
        "permanova = LightPermAnova(train_emb_sampled, compress=False)\n",
        "pvalue = permanova.run_simulation(test_emb, tot_permutations=1000)\n",
        "print(f\"p-value: {round(pvalue.item(),5)}\")"
      ]
    },
    {
      "cell_type": "markdown",
      "metadata": {
        "id": "G-b-NVbKTMWx"
      },
      "source": [
        "Comparison between train/test set and t-shirts test set embeddings: the null hypothesis is rejected."
      ]
    },
    {
      "cell_type": "code",
      "execution_count": 26,
      "metadata": {
        "colab": {
          "base_uri": "https://localhost:8080/"
        },
        "execution": {
          "iopub.execute_input": "2024-08-05T23:33:13.144663Z",
          "iopub.status.busy": "2024-08-05T23:33:13.143867Z",
          "iopub.status.idle": "2024-08-05T23:33:31.975228Z",
          "shell.execute_reply": "2024-08-05T23:33:31.974139Z",
          "shell.execute_reply.started": "2024-08-05T23:33:13.144629Z"
        },
        "id": "VrfmfJ4H4duR",
        "outputId": "034b2686-7962-4cc4-db11-009992c34cf8",
        "trusted": true
      },
      "outputs": [
        {
          "name": "stderr",
          "output_type": "stream",
          "text": [
            "100%|██████████| 1000/1000 [01:15<00:00, 13.17it/s]\n"
          ]
        },
        {
          "name": "stdout",
          "output_type": "stream",
          "text": [
            "p-value: 0.02697\n"
          ]
        }
      ],
      "source": [
        "permanova = LightPermAnova(test_emb, compress=False)\n",
        "pvalue = permanova.run_simulation(tshirt_emb, tot_permutations=1000)\n",
        "print(f\"p-value: {round(pvalue.item(),5)}\")"
      ]
    },
    {
      "cell_type": "code",
      "execution_count": 24,
      "metadata": {
        "colab": {
          "base_uri": "https://localhost:8080/"
        },
        "id": "nDbC8n04mZvF",
        "outputId": "4c1f2b4a-4993-4b25-8d23-6675a13f0467"
      },
      "outputs": [
        {
          "name": "stderr",
          "output_type": "stream",
          "text": [
            "100%|██████████| 1000/1000 [03:46<00:00,  4.41it/s]\n"
          ]
        },
        {
          "name": "stdout",
          "output_type": "stream",
          "text": [
            "p-value: 0.01998\n"
          ]
        }
      ],
      "source": [
        "permanova = LightPermAnova(train_emb_sampled, compress=False)\n",
        "pvalue = permanova.run_simulation(tshirt_emb, tot_permutations=1000)\n",
        "print(f\"p-value: {round(pvalue.item(),5)}\")"
      ]
    },
    {
      "cell_type": "markdown",
      "metadata": {
        "id": "4o_9gdyGVIHi"
      },
      "source": [
        "## Adversarial Attack - Training"
      ]
    },
    {
      "cell_type": "code",
      "execution_count": 63,
      "metadata": {
        "execution": {
          "iopub.execute_input": "2024-08-05T23:17:48.536509Z",
          "iopub.status.busy": "2024-08-05T23:17:48.536149Z",
          "iopub.status.idle": "2024-08-05T23:17:48.577437Z",
          "shell.execute_reply": "2024-08-05T23:17:48.57672Z",
          "shell.execute_reply.started": "2024-08-05T23:17:48.536482Z"
        },
        "id": "RY5peu3UWRVr",
        "trusted": true
      },
      "outputs": [],
      "source": [
        "criterion = nn.CrossEntropyLoss()\n",
        "\n",
        "classifier = PyTorchClassifier(\n",
        "    model=model,\n",
        "    loss=criterion,\n",
        "    input_shape=(1, 28, 28),\n",
        "    nb_classes=9,\n",
        "    device_type=device,\n",
        ")"
      ]
    },
    {
      "cell_type": "code",
      "execution_count": 64,
      "metadata": {
        "execution": {
          "iopub.execute_input": "2024-08-05T23:18:06.073697Z",
          "iopub.status.busy": "2024-08-05T23:18:06.073367Z",
          "iopub.status.idle": "2024-08-05T23:18:06.264128Z",
          "shell.execute_reply": "2024-08-05T23:18:06.263272Z",
          "shell.execute_reply.started": "2024-08-05T23:18:06.073672Z"
        },
        "id": "5_uWvHXpZbzq",
        "trusted": true
      },
      "outputs": [],
      "source": [
        "x_train = training_data.data.unsqueeze(1)\n",
        "x_train = x_train.view(-1, 1, 28, 28)\n",
        "x_train = np.array(x_train) / 255\n",
        "x_train = np.float32(x_train)"
      ]
    },
    {
      "cell_type": "code",
      "execution_count": 65,
      "metadata": {
        "colab": {
          "base_uri": "https://localhost:8080/"
        },
        "execution": {
          "iopub.execute_input": "2024-08-05T23:18:11.357471Z",
          "iopub.status.busy": "2024-08-05T23:18:11.35698Z",
          "iopub.status.idle": "2024-08-05T23:21:13.615924Z",
          "shell.execute_reply": "2024-08-05T23:21:13.614986Z",
          "shell.execute_reply.started": "2024-08-05T23:18:11.357436Z"
        },
        "id": "9Vy2AeHgVG3M",
        "outputId": "226af7b3-06cd-49e4-fc49-8691a38a52ab",
        "trusted": true
      },
      "outputs": [
        {
          "name": "stdout",
          "output_type": "stream",
          "text": [
            "Time for attack (in seconds): 27.517816305160522\n"
          ]
        }
      ],
      "source": [
        "fgsm_attack = FastGradientMethod(estimator=classifier, eps=0.05)\n",
        "\n",
        "start = time.time()\n",
        "x_train_adv = fgsm_attack.generate(x=x_train)\n",
        "print(\"Time for attack (in seconds): {}\".format(time.time() - start))"
      ]
    },
    {
      "cell_type": "code",
      "execution_count": 66,
      "metadata": {
        "id": "yNW-mI2V8gEL"
      },
      "outputs": [],
      "source": [
        "with open(\"/content/x_train_adv.npy\", \"wb\") as file:\n",
        "    np.save(file, x_train_adv)"
      ]
    },
    {
      "cell_type": "markdown",
      "metadata": {
        "id": "mxPc9Ip5-yc9"
      },
      "source": [
        "## Adversarial Attack - Load adv. dataset"
      ]
    },
    {
      "cell_type": "code",
      "execution_count": 67,
      "metadata": {
        "id": "OynjKyAy-8t5"
      },
      "outputs": [],
      "source": [
        "with open(\"/content/x_train_adv.npy\", \"rb\") as file:\n",
        "    x_train_adv = np.load(file)"
      ]
    },
    {
      "cell_type": "code",
      "execution_count": 68,
      "metadata": {
        "colab": {
          "base_uri": "https://localhost:8080/"
        },
        "id": "bvDgJ7EByKkN",
        "outputId": "29d770d7-b600-4cf0-e23b-d6758256c30f"
      },
      "outputs": [
        {
          "name": "stdout",
          "output_type": "stream",
          "text": [
            "Accuracy score on train set: 0.9957\n"
          ]
        }
      ],
      "source": [
        "predictions_train = classifier.predict(x_train)\n",
        "acc = np.sum(\n",
        "    np.argmax(predictions_train, axis=1) == np.array(training_data.targets)\n",
        ") / len(training_data.targets)\n",
        "print(f\"Accuracy score on train set: {round(acc.item(),5)}\")"
      ]
    },
    {
      "cell_type": "code",
      "execution_count": 69,
      "metadata": {
        "colab": {
          "base_uri": "https://localhost:8080/"
        },
        "execution": {
          "iopub.execute_input": "2024-08-05T23:24:01.330603Z",
          "iopub.status.busy": "2024-08-05T23:24:01.330301Z",
          "iopub.status.idle": "2024-08-05T23:24:27.602569Z",
          "shell.execute_reply": "2024-08-05T23:24:27.601542Z",
          "shell.execute_reply.started": "2024-08-05T23:24:01.330577Z"
        },
        "id": "s3MI3Vw9aVZf",
        "outputId": "54fa1073-8db9-479c-a735-108971e3a481",
        "trusted": true
      },
      "outputs": [
        {
          "name": "stdout",
          "output_type": "stream",
          "text": [
            "Accuracy score on adv. attacked train set: 0.26481\n"
          ]
        }
      ],
      "source": [
        "predictions_adv = classifier.predict(x_train_adv)\n",
        "acc = np.sum(\n",
        "    np.argmax(predictions_adv, axis=1) == np.array(training_data.targets)\n",
        ") / len(training_data.targets)\n",
        "print(f\"Accuracy score on adv. attacked train set: {round(acc.item(),5)}\")"
      ]
    },
    {
      "cell_type": "code",
      "execution_count": 55,
      "metadata": {
        "colab": {
          "base_uri": "https://localhost:8080/",
          "height": 308
        },
        "id": "Giv74Ecyy31t",
        "outputId": "f86fbdcd-df71-4786-8975-15203e5bc62e"
      },
      "outputs": [
        {
          "data": {
            "image/png": "[encoded data removed]",
            "text/plain": [
              "<Figure size 640x480 with 2 Axes>"
            ]
          },
          "metadata": {},
          "output_type": "display_data"
        }
      ],
      "source": [
        "fig, axs = plt.subplots(1, 2)\n",
        "\n",
        "axs[0].imshow(x_train[0].reshape(28, 28), cmap=\"gray\")\n",
        "axs[0].set_title(\"Original Image\")\n",
        "axs[0].axis(\"off\")\n",
        "\n",
        "axs[1].imshow(x_train_adv[0].reshape(28, 28), cmap=\"gray\")\n",
        "axs[1].set_title(\"Adversarial Image\")\n",
        "axs[0].axis(\"off\")\n",
        "\n",
        "plt.show()"
      ]
    },
    {
      "cell_type": "markdown",
      "metadata": {
        "id": "eDAqRBCJBN6S"
      },
      "source": [
        "## Comparison with PERMANOVA"
      ]
    },
    {
      "cell_type": "markdown",
      "metadata": {
        "id": "lLiquhuYEaLO"
      },
      "source": [
        "p-value is less than 0.05: null is rejected."
      ]
    },
    {
      "cell_type": "code",
      "execution_count": 82,
      "metadata": {
        "execution": {
          "iopub.execute_input": "2024-08-05T23:47:11.532199Z",
          "iopub.status.busy": "2024-08-05T23:47:11.53126Z",
          "iopub.status.idle": "2024-08-05T23:47:48.933779Z",
          "shell.execute_reply": "2024-08-05T23:47:48.932759Z",
          "shell.execute_reply.started": "2024-08-05T23:47:11.532162Z"
        },
        "id": "bW1yGqOrS0Nk",
        "trusted": true
      },
      "outputs": [],
      "source": [
        "with torch.no_grad():\n",
        "    train_adv_emb = embedder(torch.from_numpy(x_train_adv).to(device))\n",
        "\n",
        "train_adv_emb = train_adv_emb.view(train_adv_emb.shape[0], -1)"
      ]
    },
    {
      "cell_type": "code",
      "execution_count": 83,
      "metadata": {
        "colab": {
          "base_uri": "https://localhost:8080/"
        },
        "id": "eVr8eyaTDFxY",
        "outputId": "d7cfc6b0-b81f-4301-f17e-c34c1cedf45a"
      },
      "outputs": [
        {
          "name": "stderr",
          "output_type": "stream",
          "text": [
            "100%|██████████| 100/100 [02:19<00:00,  1.39s/it]\n"
          ]
        }
      ],
      "source": [
        "sampler = PermAnovaSampler(train_adv_emb)\n",
        "train_adv_emb_sampled = sampler.get_representative_sample(tot_permutations=100)"
      ]
    },
    {
      "cell_type": "code",
      "execution_count": 85,
      "metadata": {
        "colab": {
          "base_uri": "https://localhost:8080/"
        },
        "execution": {
          "iopub.execute_input": "2024-08-05T23:49:01.833529Z",
          "iopub.status.busy": "2024-08-05T23:49:01.833152Z",
          "iopub.status.idle": "2024-08-05T23:51:48.195584Z",
          "shell.execute_reply": "2024-08-05T23:51:48.194416Z",
          "shell.execute_reply.started": "2024-08-05T23:49:01.833499Z"
        },
        "id": "JIoZAkmc_PHu",
        "outputId": "c2f608de-208d-47f7-c603-42a48e15267e",
        "trusted": true
      },
      "outputs": [
        {
          "name": "stderr",
          "output_type": "stream",
          "text": [
            "100%|██████████| 1000/1000 [07:43<00:00,  2.16it/s]\n"
          ]
        },
        {
          "name": "stdout",
          "output_type": "stream",
          "text": [
            "p-value: 0.001\n"
          ]
        }
      ],
      "source": [
        "permanova = LightPermAnova(train_emb_sampled, compress=False)\n",
        "pvalue = permanova.run_simulation(train_adv_emb_sampled, tot_permutations=1000)\n",
        "print(f\"p-value: {round(pvalue.item(),5)}\")"
      ]
    }
  ],
  "metadata": {
    "accelerator": "GPU",
    "colab": {
      "collapsed_sections": [
        "jHyONX1nuYtx",
        "i6ast0q76hOn",
        "uTlKLk0N6Xep"
      ],
      "gpuType": "T4",
      "include_colab_link": true,
      "provenance": []
    },
    "kaggle": {
      "accelerator": "gpu",
      "dataSources": [
        {
          "isSourceIdPinned": true,
          "modelId": 99961,
          "modelInstanceId": 75234,
          "sourceId": 89716,
          "sourceType": "modelInstanceVersion"
        }
      ],
      "dockerImageVersionId": 30747,
      "isGpuEnabled": true,
      "isInternetEnabled": true,
      "language": "python",
      "sourceType": "notebook"
    },
    "kernelspec": {
      "display_name": "Python 3",
      "name": "python3"
    },
    "language_info": {
      "codemirror_mode": {
        "name": "ipython",
        "version": 3
      },
      "file_extension": ".py",
      "mimetype": "text/x-python",
      "name": "python",
      "nbconvert_exporter": "python",
      "pygments_lexer": "ipython3",
      "version": "3.10.13"
    }
  },
  "nbformat": 4,
  "nbformat_minor": 0
}
